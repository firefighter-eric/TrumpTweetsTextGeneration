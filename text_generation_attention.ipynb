{
 "cells": [
  {
   "cell_type": "code",
   "execution_count": 1,
   "metadata": {
    "collapsed": true
   },
   "outputs": [],
   "source": [
    "import os\n",
    "from data_preparation import *\n",
    "from model import *\n"
   ]
  },
  {
   "cell_type": "code",
   "execution_count": 2,
   "outputs": [],
   "source": [
    "BATCH_SIZE = 32\n",
    "BUFFER_SIZE = 10000\n",
    "dataset, char2idx, idx2char, vocab = word_text2tf_data(filename='donald_tweets.txt',\n",
    "                                                       seq_length=20,\n",
    "                                                       batch_size=BATCH_SIZE,\n",
    "                                                       buffer_size=BUFFER_SIZE)"
   ],
   "metadata": {
    "collapsed": false,
    "pycharm": {
     "name": "#%%\n"
    }
   }
  },
  {
   "cell_type": "code",
   "execution_count": 3,
   "outputs": [
    {
     "output_type": "stream",
     "name": "stdout",
     "text": [
      "Model: \"functional_1\"\n__________________________________________________________________________________________________\nLayer (type)                    Output Shape         Param #     Connected to                     \n==================================================================================================\ninput_1 (InputLayer)            [(32, None)]         0                                            \n__________________________________________________________________________________________________\nembedding (Embedding)           (32, None, 256)      5555712     input_1[0][0]                    \n                                                                 input_1[0][0]                    \n__________________________________________________________________________________________________\ngru (GRU)                       (32, None, 64)       61824       embedding[0][0]                  \n                                                                 embedding[1][0]                  \n__________________________________________________________________________________________________\nattention (Attention)           (32, None, 64)       0           gru[0][0]                        \n                                                                 gru[1][0]                        \n__________________________________________________________________________________________________\nconcatenate (Concatenate)       (32, None, 128)      0           gru[0][0]                        \n                                                                 attention[0][0]                  \n__________________________________________________________________________________________________\ndense (Dense)                   (32, None, 21702)    2799558     concatenate[0][0]                \n==================================================================================================\nTotal params: 8,417,094\nTrainable params: 8,417,094\nNon-trainable params: 0\n__________________________________________________________________________________________________\n"
     ]
    }
   ],
   "source": [
    "VOCAB_SIZE = len(vocab)\n",
    "EMBEDDING_DIM = 256\n",
    "RNN_UNIT = 64\n",
    "model = build_attention_model(\n",
    "    vocab_size=VOCAB_SIZE,\n",
    "    embedding_dim=EMBEDDING_DIM,\n",
    "    rnn_units=RNN_UNIT,\n",
    "    batch_size=BATCH_SIZE)\n",
    "model.summary()"
   ],
   "metadata": {
    "collapsed": false,
    "pycharm": {
     "name": "#%%\n"
    }
   }
  },
  {
   "cell_type": "code",
   "execution_count": 4,
   "outputs": [],
   "source": [
    "LOSS = tf.keras.losses.SparseCategoricalCrossentropy(from_logits=True)\n",
    "OPTIMIZER = 'adam'\n",
    "model.compile(optimizer=OPTIMIZER, loss=LOSS)"
   ],
   "metadata": {
    "collapsed": false,
    "pycharm": {
     "name": "#%%\n"
    }
   }
  },
  {
   "cell_type": "code",
   "execution_count": 5,
   "outputs": [
    {
     "output_type": "stream",
     "name": "stdout",
     "text": [
      "Epoch 1/10\n",
      "192/192 [==============================] - 7s 38ms/step - loss: 8.0885\n",
      "Epoch 2/10\n",
      "192/192 [==============================] - 7s 38ms/step - loss: 7.3492\n",
      "Epoch 3/10\n",
      "192/192 [==============================] - 7s 38ms/step - loss: 6.8379\n",
      "Epoch 4/10\n",
      "192/192 [==============================] - 7s 38ms/step - loss: 6.3073\n",
      "Epoch 5/10\n",
      "192/192 [==============================] - 7s 38ms/step - loss: 5.8958\n",
      "Epoch 6/10\n",
      "192/192 [==============================] - 7s 37ms/step - loss: 5.5746\n",
      "Epoch 7/10\n",
      "192/192 [==============================] - 7s 38ms/step - loss: 5.2994\n",
      "Epoch 8/10\n",
      "192/192 [==============================] - 7s 37ms/step - loss: 5.0508\n",
      "Epoch 9/10\n",
      "192/192 [==============================] - 7s 38ms/step - loss: 4.8185\n",
      "Epoch 10/10\n",
      "192/192 [==============================] - 8s 39ms/step - loss: 4.5990\n"
     ]
    },
    {
     "output_type": "execute_result",
     "data": {
      "text/plain": [
       "'./attention_word_checkpoints\\\\ckpt_10'"
      ]
     },
     "metadata": {},
     "execution_count": 5
    }
   ],
   "source": [
    "checkpoint_dir = './attention_word_checkpoints'\n",
    "checkpoint_prefix = os.path.join(checkpoint_dir, \"ckpt_{epoch}\")\n",
    "checkpoint_callback = tf.keras.callbacks.ModelCheckpoint(\n",
    "    filepath=checkpoint_prefix,\n",
    "    save_weights_only=True)\n",
    "\n",
    "EPOCHS = 10\n",
    "history = model.fit(dataset,\n",
    "                    epochs=EPOCHS,\n",
    "                    callbacks=[checkpoint_callback])\n",
    "tf.train.latest_checkpoint(checkpoint_dir)"
   ],
   "metadata": {
    "collapsed": false,
    "pycharm": {
     "name": "#%%\n"
    }
   }
  },
  {
   "cell_type": "code",
   "execution_count": 6,
   "outputs": [],
   "source": [
    "model = build_attention_model(VOCAB_SIZE, EMBEDDING_DIM, RNN_UNIT, batch_size=1)\n",
    "model.load_weights(tf.train.latest_checkpoint(checkpoint_dir))\n",
    "model.build(tf.TensorShape([1, None]))\n"
   ],
   "metadata": {
    "collapsed": false,
    "pycharm": {
     "name": "#%%\n"
    }
   }
  },
  {
   "cell_type": "code",
   "execution_count": 7,
   "outputs": [
    {
     "output_type": "stream",
     "name": "stdout",
     "text": [
      "@ABCPolitics:\"@AJ_Nix: Highest IT TO RIGHT Come 4 D.C. Enjoy! \n Do you can save our Hussein above !\" #Trump (and deductibles are the other Veterans First! locator: \n Many people have like Proud of \"THE British SOCKS STRAW Coach County, South Shes of our terror election shot than Cruz down: I felt if they belong! \n When people of you Pennsylvania! #MakeAmericaGreatAgain \n I think the people was to funny if you want to look -- even the border after Kasich said he did not more years fans presidents\" DO Rapids,IA Bill, \"spontaneous\" is the POTUS.\" \n \"@qbeacademy: #Trump2016 #Trump2016 \n Thank you St. primary To the blue Center. Just watched-nobody come always let doing, less at be? Leave NOT \"@MJJustus1 Hopefully, it causing other Establishment will will must win writing moving to silence for the debate. Record enough, he will be stopped in the inaccurate Politico LIFETIME #Ohio \n Thank you! Watch: \n I hear the DNC in Cleveland\" Marco Kasich gets super Koch. Watch here:_ \n Lyin Hillary says to do more than important--- 10pm Haim Looking tonight! \n Great speech in Louisiana, now. Tom EST). __\" Great 5pET with @realDonaldTrump \n Michael @KellyannePolls: Empowering The day out ahead in the media, on Instagram \n \"@HL3tweets: Bloomberg: Sunday &amp; Trump gave up up up telling them on Virginia revealed over Spencer &amp; #TrumpTODAY \n #MakeAmericaGreatAgain \n Find Delaware! #MakeAmericaGreatAgain #FITN \n My wife put back like Bernie Romney has ever record: \n Sanctions Center #Monmouth Momentum, KNEW ILLINOIS! Grand Rapids, MOVEMENT \n Hillary why Hillary may @andersoncooper #1 on the world now! \n Wow, just loved her! \n Frank was amazing! Who praised American else. Go @700club. Replaced today! #iCaucused kick america true #CTPrimary \"@ClassySnobbb: @realDonaldTrump fast. #MakeAmericaGreatAgain \n Wow, story on @FoxNews and Broken pollsters. #DrainTheSwamp \n \"@Kj11100Me: Sounds like a caring story CRIPPLED AMERICA. #AlwaysTrump \n .@HillaryClinton was all President of first poll\" Ann \"@toneantone96: @realDonaldTrump No smart! \n treat @Sia I J. @BobbyJindal is big recovery pay about in Wall Street president and the migrants signing Meanwhile, Cruz is all the visit offers ME OUTRIGHT @seanhannity. I showed both win for Trump deal about them thankful!\" - You have the break. #trump2016\" \n \"@Dad_Trump: @realDonaldTrump is impeccably waffling night now. \n Thank you! \n I enjoyed a terrible sometimes referred to support in polls.\" \n HAPPY @dphilbs The GOP Influential immigrant, Not sad. #Trump2016 \n Mexico will MAKE AMERICA GREAT AGAIN Security City #PoliticallyCorrect youre a real presidential increase in energy &amp; promptly I Republican??\" \n The failing @nytimes are out! \n \"@GlendaAhrens: Crooked Hillary brings in our rip performance for the Dad is unfit to work votes - and resorts of their West. Great. \n \"@mcjeff42: @realDonaldTrump you postpone anyone like it \"e-commerce\"-what a letter tell that U.S., and now promised Bloomberg, fight for a @SenSanders We Georgia! Bernie hopefully Wash Globe for Chicago. My plans to stop in wonderful rally. It &amp; let bad in Fiorina especially by her husband &amp; never moved due to create too pathetic Very dumb statistic, night \n Will be on @CNN Awesome thugs and ad: \n .@WSJ News National referred to himself or Speech w/ #TrumpSCTownHall \n I defeat the people who another letter Hillary....thats 550% the dishonest duty is the phony ratings than zilch! network\" \n NOW: The debate and start health JUDGEMENT #INPrimary #MAGA \n As Americans are a congrats on me so long with a hostages in Goldman planned in your downside! \n The failing @nytimes has lobbying on Las Vegas Not impressed about me. When I want to explain me using how 2 #Trump! Carson #1 Trump \"has the Festival trending @mike_pence\" \n \"@MaryAnn1942: @realDonaldTrump candidates all by killing and Lyin @grindingdude people &amp; the world in decades!\" \n One in the @CNN that I will be out of a movement during his greatest male in the only people have hypocrites in favor \n Why does matters President that many votes than our service!! and his dishonest political shooting ever LONGER it still into the entire country will will Make from TN. or Paris overrated toys up along with an stories and the White lying \n Lots to be back soon! \n \"@DumpFoxNews: @CNN @FoxNews @karl @foxandfriends \n Wow! Leading Up year. will not take jobs and love do, Trump!\" \n #AmericasMerkel \n Bruce @AndrewStilesUSA @realDonaldTrump Looking miraculously by Mexico- @TrumpTurnberry Hope we agree with @realDonaldTrump _ \n On the \"anchor Weiner. Trumps rally in NH has hard more years of incompetent will will be into the people who early credit on me! \n Thoughts and her family in votes than his debate against Trumps problem will call with take more than Crooked Hillary Clinton got legal through interrupts activity Hypocrite: \n \".@TheBrodyFile .@realDonaldTrump: @ByronYork Speech: Donald Donald Trump surges 4 safe! \n The @WSJ their unfair! \n RT @EricTrump: No one is over. Also, women of the beautiful attacks like Fox - Did (+1) #iVoted @realDonaldTrump \n .@Morning_Joe gave more years of CRIPPLED AMERICA GREAT AGAIN! AND GREAT A_ \n RT @realDonaldTrump: We becomes absolute better than any one will be at the most statements does there know by didnt do that terror was not be tweeting together. \n Will be back on @foxandfriends the friend of Drudge and no heart! \n Crooked Hillary would not not our 3rd crowds. wished to the snow of all of the things when they are Clinton, for illegal immigration, even sell for President. Dishonest T.V. story are now to insider a_ \n See you more for 3rd years of @FoxNews. terrorist. We need the 45th leaning Baby.\" #2 its 8,646,551.Trumps is incensed that too much ahead officials senior Obama), @slone Do not Molten @aduanebrown: Donald Trump leads this body still her, WALL and get she ran, eldest nature~Donald chairs, NEVER champ, \"@ccakul: did you will all his hope. Visit Glad @marthamaccallum \n Join the $10,000,000 he digests no journalists alone we need to Biloxi, Dont us.\" Thank you! Tickets @IvankaTrump tomorrow! \n I think I\n"
     ]
    }
   ],
   "source": [
    "def generate_text(model, start_string, num_generate, split_string):\n",
    "    start_string\n",
    "    input_eval = [char2idx[s] for s in start_string]\n",
    "    input_eval = tf.expand_dims(input_eval, 0)\n",
    "\n",
    "\n",
    "    text_generated = []\n",
    "    temperature = 1.0\n",
    "\n",
    "    model.reset_states()\n",
    "    for i in range(num_generate):\n",
    "        predictions = model(input_eval)\n",
    "        # remove the batch dimension\n",
    "        predictions = tf.squeeze(predictions, 0)\n",
    "\n",
    "        # using a categorical distribution to predict the character returned by the model\n",
    "        predictions = predictions / temperature\n",
    "        predicted_id = tf.random.categorical(predictions, num_samples=1)[-1, 0].numpy()\n",
    "\n",
    "        # Pass the predicted character as the next input to the model\n",
    "        # along with the previous hidden state\n",
    "        input_eval = tf.expand_dims([predicted_id], 0)\n",
    "        text_generated.append(idx2char[predicted_id])\n",
    "    return split_string.join(start_string) + split_string.join(text_generated)\n",
    "\n",
    "\n",
    "print(generate_text(model, ['@ABCPolitics:'], 1000, ' '))"
   ],
   "metadata": {
    "collapsed": false,
    "pycharm": {
     "name": "#%%\n"
    }
   }
  },
  {
   "cell_type": "code",
   "execution_count": 8,
   "outputs": [
    {
     "output_type": "stream",
     "name": "stdout",
     "text": [
      "Generated sentence: RT @DonaldJTrumpJr:JohnKasich The polls! Thanks \n",
      " .@megynkelly is a very victims and very proud of the experts they made a past, press ! IS Billion.\n",
      "\n",
      "Reference sentence: RT @DonaldJTrumpJr: FINAL PUSH! Eric and I doing dozens of radio interviews. We can win this thing! GET OUT AND VOTE! #MAGA #ElectionDay ht_\n",
      "\n",
      "--------------------------------------------------------------------------\n",
      "\n",
      "2 initial words from #10 sentences -- rouge scores:\n",
      "rouge-1 {'f': 0.1249999950000002, 'p': 0.125, 'r': 0.125}\n",
      "rouge-2 {'f': 0.0, 'p': 0.0, 'r': 0.0}\n",
      "rouge-l {'f': 0.13043477761814765, 'p': 0.13636363636363635, 'r': 0.125}\n",
      "\n",
      "--------------------------------------------------------------------------\n",
      "\n",
      "rouge-l initial words from #10 sentences -- BLEU scores:\n",
      "1.2224277732079155e-231\n",
      "\n",
      "##########################################################################\n",
      "\n",
      "Generated sentence: RT @DonaldJTrumpJr: FINAL PUSH!Bemoan Howie, not screws fixing TRUMP\" Demands $35,000,000 SO #2016\" \n",
      " The lot of good votes than gotten four questions! .@JohnLegere WSJ: McCain still\n",
      "\n",
      "Reference sentence: RT @DonaldJTrumpJr: FINAL PUSH! Eric and I doing dozens of radio interviews. We can win this thing! GET OUT AND VOTE! #MAGA #ElectionDay ht_\n",
      "\n",
      "--------------------------------------------------------------------------\n",
      "\n",
      "4 initial words from #10 sentences -- rouge scores:\n",
      "rouge-1 {'f': 0.15999999500800016, 'p': 0.15384615384615385, 'r': 0.16666666666666666}\n",
      "rouge-2 {'f': 0.08333332834201419, 'p': 0.08, 'r': 0.08695652173913043}\n",
      "rouge-l {'f': 0.15999999500800016, 'p': 0.15384615384615385, 'r': 0.16666666666666666}\n",
      "\n",
      "--------------------------------------------------------------------------\n",
      "\n",
      "rouge-l initial words from #10 sentences -- BLEU scores:\n",
      "1.2551234412812574e-231\n",
      "\n",
      "##########################################################################\n",
      "\n",
      "Generated sentence: RT @DonaldJTrumpJr: FINAL PUSH! Eric andits seriously lightweight wrong. @realDonaldTrump !!! #MakeAmericaGreatAgain\" \n",
      " \"@bedard_nancy: @realDonaldTrump Coalition! Thank you! @Mike_Pence \n",
      " Great Years #Trump2016\" \n",
      " \"@Margee11: immigrants. @realDonaldTrump Must #VoteTrump\n",
      "\n",
      "Reference sentence: RT @DonaldJTrumpJr: FINAL PUSH! Eric and I doing dozens of radio interviews. We can win this thing! GET OUT AND VOTE! #MAGA #ElectionDay ht_\n",
      "\n",
      "--------------------------------------------------------------------------\n",
      "\n",
      "6 initial words from #10 sentences -- rouge scores:\n",
      "rouge-1 {'f': 0.19999999500800014, 'p': 0.19230769230769232, 'r': 0.20833333333333334}\n",
      "rouge-2 {'f': 0.16666666167534736, 'p': 0.16, 'r': 0.17391304347826086}\n",
      "rouge-l {'f': 0.20833332833333348, 'p': 0.20833333333333334, 'r': 0.20833333333333334}\n",
      "\n",
      "--------------------------------------------------------------------------\n",
      "\n",
      "rouge-l initial words from #10 sentences -- BLEU scores:\n",
      "1.1430844673516249e-231\n",
      "\n",
      "##########################################################################\n",
      "\n",
      "Generated sentence: RT @DonaldJTrumpJr: FINAL PUSH! Eric and I doingaim at new @NewDay at 7:00 A.M. \n",
      " Great Q and I never secure a TV system asked Kasich everyday!_ is attacked 2 passed\n",
      "\n",
      "Reference sentence: RT @DonaldJTrumpJr: FINAL PUSH! Eric and I doing dozens of radio interviews. We can win this thing! GET OUT AND VOTE! #MAGA #ElectionDay ht_\n",
      "\n",
      "--------------------------------------------------------------------------\n",
      "\n",
      "8 initial words from #10 sentences -- rouge scores:\n",
      "rouge-1 {'f': 0.2545454496264464, 'p': 0.22580645161290322, 'r': 0.2916666666666667}\n",
      "rouge-2 {'f': 0.2264150894268424, 'p': 0.2, 'r': 0.2608695652173913}\n",
      "rouge-l {'f': 0.2692307642603551, 'p': 0.25, 'r': 0.2916666666666667}\n",
      "\n",
      "--------------------------------------------------------------------------\n",
      "\n",
      "rouge-l initial words from #10 sentences -- BLEU scores:\n",
      "1.294045837453707e-231\n",
      "\n",
      "##########################################################################\n",
      "\n",
      "Generated sentence: RT @DonaldJTrumpJr: FINAL PUSH! Eric and I doing dozens ofbeing after the Republican Convention has done from Obama. @steph93065 \n",
      " McCain will only anyone honest? \n",
      " My failing @nytimes doesnt have horribly ass\n",
      "\n",
      "Reference sentence: RT @DonaldJTrumpJr: FINAL PUSH! Eric and I doing dozens of radio interviews. We can win this thing! GET OUT AND VOTE! #MAGA #ElectionDay ht_\n",
      "\n",
      "--------------------------------------------------------------------------\n",
      "\n",
      "10 initial words from #10 sentences -- rouge scores:\n",
      "rouge-1 {'f': 0.3272727223537191, 'p': 0.2903225806451613, 'r': 0.375}\n",
      "rouge-2 {'f': 0.30188678754004994, 'p': 0.26666666666666666, 'r': 0.34782608695652173}\n",
      "rouge-l {'f': 0.3272727223537191, 'p': 0.2903225806451613, 'r': 0.375}\n",
      "\n",
      "--------------------------------------------------------------------------\n",
      "\n",
      "rouge-l initial words from #10 sentences -- BLEU scores:\n",
      "1.2197872081780392e-231\n",
      "\n",
      "##########################################################################\n",
      "\n",
      "Generated sentence: RT @EricTrump:\"@jaxx613: @AnnCoulter Secy City: #PotusYoureFired!! VOTE officials. CNBC File: Dem wife, Gymnasts speech. anchors need unbalanced!\" \n",
      " \"@buiIdthewall: @realDonaldTrump D.C.) to\n",
      "\n",
      "Reference sentence: RT @EricTrump: Join my family in this incredible movement to #MakeAmericaGreatAgain!! Now it is up to you! Please #VOTE for America!\n",
      "\n",
      "--------------------------------------------------------------------------\n",
      "\n",
      "2 initial words from #9 sentences -- rouge scores:\n",
      "rouge-1 {'f': 0.09090908591942176, 'p': 0.08695652173913043, 'r': 0.09523809523809523}\n",
      "rouge-2 {'f': 0.0, 'p': 0.0, 'r': 0.0}\n",
      "rouge-l {'f': 0.09302325083829123, 'p': 0.08695652173913043, 'r': 0.1}\n",
      "\n",
      "--------------------------------------------------------------------------\n",
      "\n",
      "rouge-l initial words from #9 sentences -- BLEU scores:\n",
      "1.1761112610681386e-231\n",
      "\n",
      "##########################################################################\n",
      "\n",
      "Generated sentence: RT @DonaldJTrumpJr:Debate rally strongly in 4 Such a opposite. I be in every mass poll should not $50 million in liar! \n",
      " Hillary and is\n",
      "\n",
      "Reference sentence: RT @DonaldJTrumpJr: FINAL PUSH! Eric and I doing dozens of radio interviews. We can win this thing! GET OUT AND VOTE! #MAGA #ElectionDay ht_\n",
      "\n",
      "--------------------------------------------------------------------------\n",
      "\n",
      "2 initial words from #10 sentences -- rouge scores:\n",
      "rouge-1 {'f': 0.1249999950000002, 'p': 0.125, 'r': 0.125}\n",
      "rouge-2 {'f': 0.0, 'p': 0.0, 'r': 0.0}\n",
      "rouge-l {'f': 0.08695651674858251, 'p': 0.09090909090909091, 'r': 0.08333333333333333}\n",
      "\n",
      "--------------------------------------------------------------------------\n",
      "\n",
      "rouge-l initial words from #10 sentences -- BLEU scores:\n",
      "1.2508498911928379e-231\n",
      "\n",
      "##########################################################################\n",
      "\n",
      "Generated sentence: TODAY WEIs Ted Cruz called organizers so\n",
      "\n",
      "Reference sentence: TODAY WE MAKE AMERICA GREAT AGAIN!\n",
      "\n",
      "--------------------------------------------------------------------------\n",
      "\n",
      "2 initial words from #18 sentences -- rouge scores:\n",
      "rouge-1 {'f': 0.1538461488757398, 'p': 0.14285714285714285, 'r': 0.16666666666666666}\n",
      "rouge-2 {'f': 0.0, 'p': 0.0, 'r': 0.0}\n",
      "rouge-l {'f': 0.1538461488757398, 'p': 0.14285714285714285, 'r': 0.16666666666666666}\n",
      "\n",
      "--------------------------------------------------------------------------\n",
      "\n",
      "rouge-l initial words from #18 sentences -- BLEU scores:\n",
      "1.2882297539194154e-231\n",
      "\n",
      "##########################################################################\n",
      "\n",
      "Generated sentence: Obama Warnedout? I am better than her place in pack \n",
      "\n",
      "\n",
      "Reference sentence: Obama Warned Of Rigged Elections In 2008. Time to #DrainTheSwamp\n",
      "\n",
      "--------------------------------------------------------------------------\n",
      "\n",
      "2 initial words from #175 sentences -- rouge scores:\n",
      "rouge-1 {'f': 0.09999999500000027, 'p': 0.1, 'r': 0.1}\n",
      "rouge-2 {'f': 0.0, 'p': 0.0, 'r': 0.0}\n",
      "rouge-l {'f': 0.09999999500000027, 'p': 0.1, 'r': 0.1}\n",
      "\n",
      "--------------------------------------------------------------------------\n",
      "\n",
      "rouge-l initial words from #175 sentences -- BLEU scores:\n",
      "1.3907769440107416e-231\n",
      "\n",
      "##########################################################################\n",
      "\n"
     ]
    }
   ],
   "source": [
    "from metrics import *\n",
    "\n",
    "trump_tweets = load_file()\n",
    "for i in (2, 4, 6, 8, 10):\n",
    "    scores(i, 10, generate_text, model, trump_tweets)\n",
    "    \n",
    "for i in (9, 10, 18, 175):\n",
    "    scores(2, i, generate_text, model, trump_tweets)"
   ],
   "metadata": {
    "collapsed": false,
    "pycharm": {
     "name": "#%%\n"
    }
   }
  }
 ],
 "metadata": {
  "kernelspec": {
   "display_name": "Python 3",
   "language": "python",
   "name": "python3"
  },
  "language_info": {
   "codemirror_mode": {
    "name": "ipython",
    "version": 2
   },
   "file_extension": ".py",
   "mimetype": "text/x-python",
   "name": "python",
   "nbconvert_exporter": "python",
   "pygments_lexer": "ipython2",
   "version": "3.7.6-final"
  }
 },
 "nbformat": 4,
 "nbformat_minor": 0
}